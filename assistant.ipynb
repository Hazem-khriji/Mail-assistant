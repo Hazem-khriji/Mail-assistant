{
 "cells": [
  {
   "cell_type": "code",
   "id": "initial_id",
   "metadata": {
    "collapsed": true,
    "ExecuteTime": {
     "end_time": "2025-10-20T07:25:22.381660Z",
     "start_time": "2025-10-20T07:25:22.191214Z"
    }
   },
   "source": [
    "from dotenv import load_dotenv\n",
    "import aisuite as ai\n",
    "import langchain\n",
    "import json"
   ],
   "outputs": [],
   "execution_count": 1
  },
  {
   "metadata": {},
   "cell_type": "code",
   "outputs": [],
   "execution_count": null,
   "source": [
    "from agents import mail_agent\n",
    "from langchain_core.runnables import RunnableConfig\n",
    "import uuid\n",
    "\n",
    "thread_id = str(uuid.uuid4())\n",
    "config={\"configurable\": {\"thread_id\": thread_id}}\n",
    "\n",
    "response=mail_agent.invoke({\"messages\": [{\"role\": \"user\", \"content\": \"what are my recent emails ? \"}]},\n",
    "                           config= config\n",
    "                           )\n",
    "print(response[\"messages\"][-1].content)"
   ],
   "id": "5ee8b4d02b956d25"
  }
 ],
 "metadata": {
  "kernelspec": {
   "display_name": "Python 3",
   "language": "python",
   "name": "python3"
  },
  "language_info": {
   "codemirror_mode": {
    "name": "ipython",
    "version": 2
   },
   "file_extension": ".py",
   "mimetype": "text/x-python",
   "name": "python",
   "nbconvert_exporter": "python",
   "pygments_lexer": "ipython2",
   "version": "2.7.6"
  }
 },
 "nbformat": 4,
 "nbformat_minor": 5
}
