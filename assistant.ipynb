{
 "cells": [
  {
   "cell_type": "code",
   "id": "initial_id",
   "metadata": {
    "collapsed": true,
    "ExecuteTime": {
     "end_time": "2025-10-19T18:05:45.645300Z",
     "start_time": "2025-10-19T18:05:45.605118Z"
    }
   },
   "source": [
    "from dotenv import load_dotenv\n",
    "import aisuite as ai\n",
    "import langchain\n",
    "import json"
   ],
   "outputs": [],
   "execution_count": 5
  },
  {
   "metadata": {
    "ExecuteTime": {
     "end_time": "2025-10-19T17:55:57.219960Z",
     "start_time": "2025-10-19T17:55:50.061326Z"
    }
   },
   "cell_type": "code",
   "source": [
    "from llms import get_gmail_model\n",
    "response = get_gmail_model().invoke(\"\"\"\n",
    "You are an email assistant. The user has 3 unread emails:\n",
    "1. From: boss@company.com - Subject: Q4 Report Due\n",
    "2. From: friend@gmail.com - Subject: Weekend plans?\n",
    "3. From: newsletter@news.com - Subject: Daily digest\n",
    "\n",
    "Which one seems most urgent? Explain briefly.\n",
    "\"\"\")\n",
    "print(response)"
   ],
   "id": "c3e75f3b93f764a0",
   "outputs": [
    {
     "name": "stdout",
     "output_type": "stream",
     "text": [
      "content='Based on the subject line, I would say that the email from \"boss@company.com\" with the subject \"Q4 Report Due\" seems the most urgent. The mention of a deadline (\"Due\") suggests that there is a time-sensitive requirement for completion and submission of the report.' additional_kwargs={} response_metadata={'model': 'llama3.2', 'created_at': '2025-10-19T17:55:57.2109842Z', 'done': True, 'done_reason': 'stop', 'total_duration': 5646022500, 'load_duration': 4773115700, 'prompt_eval_count': 91, 'prompt_eval_duration': 35479400, 'eval_count': 58, 'eval_duration': 688940500, 'model_name': 'llama3.2', 'model_provider': 'ollama'} id='lc_run--66d2c163-f4bc-4a4c-aed8-7611ac47920e-0' usage_metadata={'input_tokens': 91, 'output_tokens': 58, 'total_tokens': 149}\n"
     ]
    }
   ],
   "execution_count": 1
  }
 ],
 "metadata": {
  "kernelspec": {
   "display_name": "Python 3",
   "language": "python",
   "name": "python3"
  },
  "language_info": {
   "codemirror_mode": {
    "name": "ipython",
    "version": 2
   },
   "file_extension": ".py",
   "mimetype": "text/x-python",
   "name": "python",
   "nbconvert_exporter": "python",
   "pygments_lexer": "ipython2",
   "version": "2.7.6"
  }
 },
 "nbformat": 4,
 "nbformat_minor": 5
}
