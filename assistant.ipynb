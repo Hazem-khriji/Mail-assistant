{
 "cells": [
  {
   "cell_type": "code",
   "id": "initial_id",
   "metadata": {
    "collapsed": true,
    "ExecuteTime": {
     "end_time": "2025-10-19T21:18:29.104221Z",
     "start_time": "2025-10-19T21:18:28.927730Z"
    }
   },
   "source": [
    "from dotenv import load_dotenv\n",
    "import aisuite as ai\n",
    "import langchain\n",
    "import json"
   ],
   "outputs": [],
   "execution_count": 1
  },
  {
   "metadata": {},
   "cell_type": "code",
   "outputs": [],
   "execution_count": null,
   "source": [
    "from agents import mail_agent\n",
    "response=mail_agent.invoke({\"messages\": [{\"role\": \"user\", \"content\": \"what are my recent emails ? \"}]})\n",
    "print(response[\"messages\"][-1].content)"
   ],
   "id": "797eb26cfe0692b8"
  }
 ],
 "metadata": {
  "kernelspec": {
   "display_name": "Python 3",
   "language": "python",
   "name": "python3"
  },
  "language_info": {
   "codemirror_mode": {
    "name": "ipython",
    "version": 2
   },
   "file_extension": ".py",
   "mimetype": "text/x-python",
   "name": "python",
   "nbconvert_exporter": "python",
   "pygments_lexer": "ipython2",
   "version": "2.7.6"
  }
 },
 "nbformat": 4,
 "nbformat_minor": 5
}
